{
 "cells": [
  {
   "cell_type": "code",
   "execution_count": 1,
   "metadata": {},
   "outputs": [
    {
     "name": "stdout",
     "output_type": "stream",
     "text": [
      "['visit1', ['Москва', 'Россия']]\n",
      "['visit3', ['Владимир', 'Россия']]\n",
      "['visit7', ['Тула', 'Россия']]\n",
      "['visit8', ['Тула', 'Россия']]\n",
      "['visit9', ['Курск', 'Россия']]\n",
      "['visit10', ['Архангельск', 'Россия']]\n"
     ]
    }
   ],
   "source": [
    "geo_logs = [\n",
    "    ['visit1', ['Москва', 'Россия']],\n",
    "    ['visit2', ['Дели', 'Индия']],\n",
    "    ['visit3', ['Владимир', 'Россия']],\n",
    "    ['visit4', ['Лиссабон', 'Португалия']],\n",
    "    ['visit5', ['Париж', 'Франция']],\n",
    "    ['visit6', ['Лиссабон', 'Португалия']],\n",
    "    ['visit7', ['Тула', 'Россия']],\n",
    "    ['visit8', ['Тула', 'Россия']],\n",
    "    ['visit9', ['Курск', 'Россия']],\n",
    "    ['visit10', ['Архангельск', 'Россия']],\n",
    "]\n",
    "\n",
    "for geo_log in geo_logs:\n",
    "    if geo_log[1][1] == 'Россия':\n",
    "        print (geo_log)"
   ]
  },
  {
   "cell_type": "code",
   "execution_count": 2,
   "metadata": {},
   "outputs": [
    {
     "name": "stdout",
     "output_type": "stream",
     "text": [
      "[213, 15, 54, 119, 98, 35]\n"
     ]
    }
   ],
   "source": [
    "ids = [['user1', [213, 213, 213, 15, 213]], ['user2', [54, 54, 119, 119, 119]], ['user3', [213, 98, 98, 35]]]\n",
    "unique = []\n",
    "for user in ids:\n",
    "    for geo in user[1]:\n",
    "        if geo not in unique:\n",
    "            unique.append(geo)\n",
    "\n",
    "print (unique)"
   ]
  },
  {
   "cell_type": "code",
   "execution_count": 17,
   "metadata": {},
   "outputs": [
    {
     "name": "stdout",
     "output_type": "stream",
     "text": [
      "Поисковых запросов из 2 элементов - 42.86%\n",
      "Поисковых запросов из 3 элементов - 57.14%\n"
     ]
    }
   ],
   "source": [
    "queries = [\n",
    "'смотреть сериалы онлайн',\n",
    "'новости спорта',\n",
    "'афиша кино',\n",
    "'курс доллара',\n",
    "'сериалы этим летом',\n",
    "'курс по питону',\n",
    "'сериалы про спорт',\n",
    "]\n",
    "queries_res = []\n",
    "for query in queries:\n",
    "    queries_res.append(len(query.strip().split(' ')))\n",
    "\n",
    "for i in range(min(queries_res), max(queries_res)+1):\n",
    "    print(f'Поисковых запросов из {i:.0f} элементов - {queries_res.count(i)/len(queries):.2%}')"
   ]
  },
  {
   "cell_type": "code",
   "execution_count": null,
   "metadata": {},
   "outputs": [],
   "source": []
  }
 ],
 "metadata": {
  "kernelspec": {
   "display_name": "Python 3",
   "language": "python",
   "name": "python3"
  },
  "language_info": {
   "codemirror_mode": {
    "name": "ipython",
    "version": 3
   },
   "file_extension": ".py",
   "mimetype": "text/x-python",
   "name": "python",
   "nbconvert_exporter": "python",
   "pygments_lexer": "ipython3",
   "version": "3.7.4"
  }
 },
 "nbformat": 4,
 "nbformat_minor": 2
}
