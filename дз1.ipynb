{
 "cells": [
  {
   "cell_type": "code",
   "execution_count": null,
   "metadata": {},
   "outputs": [],
   "source": [
    "long_phrase = input ('Введите первую фразу: ')\n",
    "short_phrase = input ('Введите вторую фразу: ')\n",
    "if len (long_phrase) > len (short_phrase):\n",
    "    print ('true')\n",
    "else:\n",
    "    print ('false')"
   ]
  },
  {
   "cell_type": "code",
   "execution_count": null,
   "metadata": {},
   "outputs": [],
   "source": [
    "x = input ('Введите число в байтах: ')\n",
    "b = int (x)/1024\n",
    "print ('Объем файла равен ', round (float (b)), 'Mb')"
   ]
  },
  {
   "cell_type": "code",
   "execution_count": null,
   "metadata": {},
   "outputs": [],
   "source": [
    "mounth = input ('Введите месяц: ')\n",
    "date = int (input ('Введите число: '))\n",
    "if mounth == 'январь':\n",
    "    if date > 19:\n",
    "        print ('Вывод: Водолей')\n",
    "elif mounth == \"февраль\":\n",
    "    if date < 20:\n",
    "        print ('Вывод: Водолей')\n",
    "elif mounth == 'февраль':\n",
    "    if date > 19:\n",
    "        print ('Вывод: Рыбы')\n",
    "elif mounth == 'март':\n",
    "    if date < 21:\n",
    "        print ('Вывод: Рыбы')\n",
    "elif mounth == 'март':\n",
    "    if date > 20:\n",
    "        print ('Вывод: Овен')\n",
    "elif mounth == 'апрель':\n",
    "    if date < 21: \n",
    "        print ('Вывод: Овен')\n",
    "elif mounth == 'апрель':\n",
    "    if  date > 20:\n",
    "        print ('Вывод: Телец')\n",
    "elif mounth == 'май':\n",
    "    if  date < 21: \n",
    "        print ('Вывод: Телец')\n",
    "elif mounth == 'апрель':\n",
    "    if date > 20:\n",
    "        print ('Вывод: Близнецы')\n",
    "elif mounth == 'май':\n",
    "    if  date < 21: \n",
    "        print('Вывод: Близнецы')\n",
    "elif mounth == 'июнь':\n",
    "    if  date > 20:\n",
    "        print ('Вывод: Рак')\n",
    "elif mounth == 'июль':\n",
    "    if  date < 23: \n",
    "        print('Вывод: Рак')\n",
    "elif mounth == 'июнь':\n",
    "    if  date > 22:\n",
    "        print ('Вывод: Лев')\n",
    "elif mounth == 'август':\n",
    "    if date < 23: \n",
    "        print('Вывод: Лев')\n",
    "elif mounth == 'июль':\n",
    "    if  date > 22:\n",
    "        print ('Вывод: Дева')\n",
    "elif mounth == 'сентябрь':\n",
    "    if  date < 23: \n",
    "        print('Вывод: Дева')\n",
    "elif mounth == 'август':\n",
    "    if  date > 22:\n",
    "        print ('Вывод: Весы')\n",
    "elif mounth == 'октябрь':\n",
    "    if date < 23:\n",
    "        print('Вывод: Весы')\n",
    "elif mounth == 'сентябрь':\n",
    "    if date > 22:\n",
    "        print ('Вывод: Скорпион')\n",
    "elif mounth == 'ноябрь':\n",
    "    if  date < 23: \n",
    "        print('Вывод: Скорпион')\n",
    "elif mounth == 'октябрь':\n",
    "    if date > 22:\n",
    "        print ('Вывод: Стрелец')\n",
    "elif mounth == 'декабрь':\n",
    "    if  date < 22: \n",
    "        print('Вывод: Стрелец')\n",
    "elif mounth == 'декабрь':\n",
    "    if date > 21:\n",
    "        print ('Вывод: Козерог')\n",
    "elif mounth == 'январь':\n",
    "    if  date < 20: \n",
    "        print('Вывод: Козерог')\n",
    "else:\n",
    "    print ('Введена неверная дата')"
   ]
  },
  {
   "cell_type": "code",
   "execution_count": null,
   "metadata": {},
   "outputs": [],
   "source": [
    "total = float(input('Введите заработную плату в месяц:'))\n",
    "mortgage = float(input('Введите сколько процентов уходит на ипотеку:'))\n",
    "life = float(input('Введите сколько процентов уходит на жизнь:'))\n",
    "premium= float(input('Введите количество премий в год:'))\n",
    "\n",
    "print('На ипотеку было потрачено:', total*12/100*mortgage)\n",
    "print('Было накоплено:', total*12/100*(100-mortgage-life)+total*premium*0.5)"
   ]
  },
  {
   "cell_type": "code",
   "execution_count": null,
   "metadata": {},
   "outputs": [],
   "source": []
  }
 ],
 "metadata": {
  "kernelspec": {
   "display_name": "Python 3",
   "language": "python",
   "name": "python3"
  },
  "language_info": {
   "codemirror_mode": {
    "name": "ipython",
    "version": 3
   },
   "file_extension": ".py",
   "mimetype": "text/x-python",
   "name": "python",
   "nbconvert_exporter": "python",
   "pygments_lexer": "ipython3",
   "version": "3.7.4"
  }
 },
 "nbformat": 4,
 "nbformat_minor": 2
}
